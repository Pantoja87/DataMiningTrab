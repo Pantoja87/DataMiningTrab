{
 "cells": [
  {
   "cell_type": "markdown",
   "metadata": {
    "toc": true
   },
   "source": [
    "<h1>Table of Contents<span class=\"tocSkip\"></span></h1>\n",
    "<div class=\"toc\"><ul class=\"toc-item\"><li><span><a href=\"#Read-DataSet\" data-toc-modified-id=\"Read-DataSet-1\"><span class=\"toc-item-num\">1&nbsp;&nbsp;</span>Read DataSet</a></span></li><li><span><a href=\"#Matriz-de-Correlação-e-Visualização-dos-Dados\" data-toc-modified-id=\"Matriz-de-Correlação-e-Visualização-dos-Dados-2\"><span class=\"toc-item-num\">2&nbsp;&nbsp;</span>Matriz de Correlação e Visualização dos Dados</a></span></li><li><span><a href=\"#Pré-processamento-e-Transformações\" data-toc-modified-id=\"Pré-processamento-e-Transformações-3\"><span class=\"toc-item-num\">3&nbsp;&nbsp;</span>Pré-processamento e Transformações</a></span></li><li><span><a href=\"#Normalização-Atributo-Idade-(Min--Max)\" data-toc-modified-id=\"Normalização-Atributo-Idade-(Min--Max)-4\"><span class=\"toc-item-num\">4&nbsp;&nbsp;</span>Normalização Atributo Idade (Min- Max)</a></span></li><li><span><a href=\"#Analise-Exploratoria\" data-toc-modified-id=\"Analise-Exploratoria-5\"><span class=\"toc-item-num\">5&nbsp;&nbsp;</span>Analise Exploratoria</a></span></li><li><span><a href=\"#Dividindo-o-dataset-em-treinamento-e-teste-(-70%-treinamento-e-30%-teste)\" data-toc-modified-id=\"Dividindo-o-dataset-em-treinamento-e-teste-(-70%-treinamento-e-30%-teste)-6\"><span class=\"toc-item-num\">6&nbsp;&nbsp;</span>Dividindo o dataset em treinamento e teste ( 70% treinamento e 30% teste)</a></span></li></ul></div>"
   ]
  },
  {
   "cell_type": "code",
   "execution_count": 114,
   "metadata": {
    "ExecuteTime": {
     "end_time": "2019-06-28T19:56:21.324884Z",
     "start_time": "2019-06-28T19:56:21.322383Z"
    }
   },
   "outputs": [],
   "source": [
    "# necessário instalar para ler em xlsx\n",
    "##pip install  xlrd "
   ]
  },
  {
   "cell_type": "markdown",
   "metadata": {},
   "source": [
    "# Importando Librarys"
   ]
  },
  {
   "cell_type": "code",
   "execution_count": 115,
   "metadata": {
    "ExecuteTime": {
     "end_time": "2019-06-28T19:56:21.461478Z",
     "start_time": "2019-06-28T19:56:21.326886Z"
    }
   },
   "outputs": [],
   "source": [
    "import pandas as pd\n",
    "import numpy as  np\n",
    "\n",
    "#preprocessamento\n",
    "from sklearn import preprocessing\n",
    "\n",
    "#imagens\n",
    "from IPython.display import Image as img\n",
    "\n",
    "\n",
    "#bibliotecas Gráficas\n",
    "import matplotlib.pyplot as plt\n",
    "import seaborn as sns\n",
    "\n",
    "\n",
    "from collections import Counter\n",
    "\n",
    "#Classificadores / Algoritmos\n",
    "from sklearn.ensemble import RandomForestClassifier, AdaBoostClassifier, GradientBoostingClassifier, ExtraTreesClassifier, VotingClassifier\n",
    "from sklearn.discriminant_analysis import LinearDiscriminantAnalysis\n",
    "from sklearn.linear_model import LogisticRegression\n",
    "from sklearn.neighbors import KNeighborsClassifier\n",
    "from sklearn.tree import DecisionTreeClassifier\n",
    "from sklearn.neural_network import MLPClassifier\n",
    "from sklearn.svm import SVC\n",
    "from sklearn.model_selection import GridSearchCV, cross_val_score, StratifiedKFold, learning_curve\n",
    "\n",
    "import warnings\n",
    "warnings.filterwarnings('ignore')\n"
   ]
  },
  {
   "cell_type": "markdown",
   "metadata": {},
   "source": [
    "## Read DataSet"
   ]
  },
  {
   "cell_type": "code",
   "execution_count": 116,
   "metadata": {
    "ExecuteTime": {
     "end_time": "2019-06-28T19:56:21.551540Z",
     "start_time": "2019-06-28T19:56:21.463480Z"
    }
   },
   "outputs": [],
   "source": [
    "df_cesaria = pd.read_excel ('cesarianadataset.xlsx')"
   ]
  },
  {
   "cell_type": "code",
   "execution_count": 117,
   "metadata": {
    "ExecuteTime": {
     "end_time": "2019-06-28T19:56:21.601575Z",
     "start_time": "2019-06-28T19:56:21.553542Z"
    }
   },
   "outputs": [
    {
     "data": {
      "text/html": [
       "<div>\n",
       "<style scoped>\n",
       "    .dataframe tbody tr th:only-of-type {\n",
       "        vertical-align: middle;\n",
       "    }\n",
       "\n",
       "    .dataframe tbody tr th {\n",
       "        vertical-align: top;\n",
       "    }\n",
       "\n",
       "    .dataframe thead th {\n",
       "        text-align: right;\n",
       "    }\n",
       "</style>\n",
       "<table border=\"1\" class=\"dataframe\">\n",
       "  <thead>\n",
       "    <tr style=\"text-align: right;\">\n",
       "      <th></th>\n",
       "      <th>idade</th>\n",
       "      <th>nr_parto</th>\n",
       "      <th>tempo_parto</th>\n",
       "      <th>pressao_sangue</th>\n",
       "      <th>prblm_coracao</th>\n",
       "      <th>Cesariana</th>\n",
       "    </tr>\n",
       "  </thead>\n",
       "  <tbody>\n",
       "    <tr>\n",
       "      <th>0</th>\n",
       "      <td>22</td>\n",
       "      <td>1</td>\n",
       "      <td>0</td>\n",
       "      <td>2</td>\n",
       "      <td>0</td>\n",
       "      <td>0</td>\n",
       "    </tr>\n",
       "    <tr>\n",
       "      <th>1</th>\n",
       "      <td>26</td>\n",
       "      <td>2</td>\n",
       "      <td>0</td>\n",
       "      <td>1</td>\n",
       "      <td>0</td>\n",
       "      <td>1</td>\n",
       "    </tr>\n",
       "    <tr>\n",
       "      <th>2</th>\n",
       "      <td>26</td>\n",
       "      <td>2</td>\n",
       "      <td>1</td>\n",
       "      <td>1</td>\n",
       "      <td>0</td>\n",
       "      <td>0</td>\n",
       "    </tr>\n",
       "    <tr>\n",
       "      <th>3</th>\n",
       "      <td>28</td>\n",
       "      <td>1</td>\n",
       "      <td>0</td>\n",
       "      <td>2</td>\n",
       "      <td>0</td>\n",
       "      <td>0</td>\n",
       "    </tr>\n",
       "    <tr>\n",
       "      <th>4</th>\n",
       "      <td>22</td>\n",
       "      <td>2</td>\n",
       "      <td>0</td>\n",
       "      <td>1</td>\n",
       "      <td>0</td>\n",
       "      <td>1</td>\n",
       "    </tr>\n",
       "  </tbody>\n",
       "</table>\n",
       "</div>"
      ],
      "text/plain": [
       "   idade  nr_parto  tempo_parto  pressao_sangue  prblm_coracao  Cesariana\n",
       "0     22         1            0               2              0          0\n",
       "1     26         2            0               1              0          1\n",
       "2     26         2            1               1              0          0\n",
       "3     28         1            0               2              0          0\n",
       "4     22         2            0               1              0          1"
      ]
     },
     "execution_count": 117,
     "metadata": {},
     "output_type": "execute_result"
    }
   ],
   "source": [
    "df_cesaria.head()\n"
   ]
  },
  {
   "cell_type": "code",
   "execution_count": 118,
   "metadata": {
    "ExecuteTime": {
     "end_time": "2019-06-28T19:56:21.678127Z",
     "start_time": "2019-06-28T19:56:21.603576Z"
    }
   },
   "outputs": [],
   "source": [
    "df_cesaria = pd.DataFrame(df_cesaria)"
   ]
  },
  {
   "cell_type": "markdown",
   "metadata": {},
   "source": [
    "## Matriz de Correlação e Visualização dos Dados"
   ]
  },
  {
   "cell_type": "code",
   "execution_count": 119,
   "metadata": {
    "ExecuteTime": {
     "end_time": "2019-06-28T19:56:21.987340Z",
     "start_time": "2019-06-28T19:56:21.680129Z"
    }
   },
   "outputs": [
    {
     "data": {
      "image/png": "[encoded data removed]",
      "text/plain": [
       "<Figure size 432x288 with 2 Axes>"
      ]
     },
     "metadata": {
      "needs_background": "light"
     },
     "output_type": "display_data"
    }
   ],
   "source": [
    "g = sns.heatmap(df_cesaria[[\"Cesariana\",\"idade\",\"tempo_parto\",\"pressao_sangue\",\"prblm_coracao\"]].corr(),annot=True, fmt = \".2f\", cmap = \"coolwarm\")"
   ]
  },
  {
   "cell_type": "markdown",
   "metadata": {
    "ExecuteTime": {
     "end_time": "2019-06-27T16:56:51.209768Z",
     "start_time": "2019-06-27T16:56:51.206765Z"
    }
   },
   "source": [
    "* Como esperado Cesariana x problema no coração tem correlação positiva Rázoavel\n",
    "* Idade e Problema do Coração também possui certa relação\n",
    "\n",
    "Portanto idade e problema do coração podem ser bons atributos para a  predição"
   ]
  },
  {
   "cell_type": "code",
   "execution_count": 120,
   "metadata": {
    "ExecuteTime": {
     "end_time": "2019-06-28T19:56:27.459606Z",
     "start_time": "2019-06-28T19:56:21.989342Z"
    }
   },
   "outputs": [
    {
     "data": {
      "image/png": "[encoded data removed]",
      "text/plain": [
       "<Figure size 1138x1080 with 42 Axes>"
      ]
     },
     "metadata": {
      "needs_background": "light"
     },
     "output_type": "display_data"
    }
   ],
   "source": [
    "sns.pairplot(df_cesaria,hue=\"Cesariana\",palette=\"Set2\")\n",
    "plt.show()"
   ]
  },
  {
   "cell_type": "markdown",
   "metadata": {},
   "source": [
    "## Pré-processamento e Transformações"
   ]
  },
  {
   "cell_type": "code",
   "execution_count": 121,
   "metadata": {
    "ExecuteTime": {
     "end_time": "2019-06-28T19:56:27.475116Z",
     "start_time": "2019-06-28T19:56:27.461107Z"
    }
   },
   "outputs": [],
   "source": [
    "df_cesaria.loc[df_cesaria.prblm_coracao  ==  0,'Ft_prblm_coracao'] = 'Apto'\n",
    "\n",
    "df_cesaria.loc[df_cesaria.prblm_coracao == 1,  'Ft_prblm_coracao']  = 'Inapto'"
   ]
  },
  {
   "cell_type": "code",
   "execution_count": 122,
   "metadata": {
    "ExecuteTime": {
     "end_time": "2019-06-28T19:56:27.598201Z",
     "start_time": "2019-06-28T19:56:27.476618Z"
    }
   },
   "outputs": [],
   "source": [
    "\n",
    "df_cesaria.loc[df_cesaria.pressao_sangue  ==  0,'Ft_pressao_sangue'] = 'Baixo'\n",
    "\n",
    "df_cesaria.loc[df_cesaria.pressao_sangue == 1,  'Ft_pressao_sangue']  = 'Normal'\n",
    "\n",
    "df_cesaria.loc[df_cesaria.pressao_sangue == 2,   'Ft_pressao_sangue']  = 'Alto'"
   ]
  },
  {
   "cell_type": "code",
   "execution_count": 123,
   "metadata": {
    "ExecuteTime": {
     "end_time": "2019-06-28T19:56:27.710779Z",
     "start_time": "2019-06-28T19:56:27.600202Z"
    }
   },
   "outputs": [],
   "source": [
    "df_cesaria.loc[df_cesaria.tempo_parto  ==  0,'Ft_tempo_parto'] = 'Pontual'\n",
    "\n",
    "df_cesaria.loc[df_cesaria.tempo_parto == 1, 'Ft_tempo_parto']  = 'Prematuro'\n",
    "\n",
    "df_cesaria.loc[df_cesaria.tempo_parto == 2, 'Ft_tempo_parto']  = 'Tardio'"
   ]
  },
  {
   "cell_type": "code",
   "execution_count": 124,
   "metadata": {
    "ExecuteTime": {
     "end_time": "2019-06-28T19:56:27.830361Z",
     "start_time": "2019-06-28T19:56:27.712780Z"
    }
   },
   "outputs": [],
   "source": [
    "df_cesaria.loc[df_cesaria.Cesariana  ==  0,'Clas_Cesariana']  = 'N'\n",
    "\n",
    "df_cesaria.loc[df_cesaria.Cesariana   == 1, 'Clas_Cesariana']  = 'S'"
   ]
  },
  {
   "cell_type": "code",
   "execution_count": 125,
   "metadata": {
    "ExecuteTime": {
     "end_time": "2019-06-28T19:56:27.949943Z",
     "start_time": "2019-06-28T19:56:27.831862Z"
    }
   },
   "outputs": [
    {
     "data": {
      "text/html": [
       "<div>\n",
       "<style scoped>\n",
       "    .dataframe tbody tr th:only-of-type {\n",
       "        vertical-align: middle;\n",
       "    }\n",
       "\n",
       "    .dataframe tbody tr th {\n",
       "        vertical-align: top;\n",
       "    }\n",
       "\n",
       "    .dataframe thead th {\n",
       "        text-align: right;\n",
       "    }\n",
       "</style>\n",
       "<table border=\"1\" class=\"dataframe\">\n",
       "  <thead>\n",
       "    <tr style=\"text-align: right;\">\n",
       "      <th></th>\n",
       "      <th>idade</th>\n",
       "      <th>nr_parto</th>\n",
       "      <th>tempo_parto</th>\n",
       "      <th>pressao_sangue</th>\n",
       "      <th>prblm_coracao</th>\n",
       "      <th>Cesariana</th>\n",
       "      <th>Ft_prblm_coracao</th>\n",
       "      <th>Ft_pressao_sangue</th>\n",
       "      <th>Ft_tempo_parto</th>\n",
       "      <th>Clas_Cesariana</th>\n",
       "    </tr>\n",
       "  </thead>\n",
       "  <tbody>\n",
       "    <tr>\n",
       "      <th>0</th>\n",
       "      <td>22</td>\n",
       "      <td>1</td>\n",
       "      <td>0</td>\n",
       "      <td>2</td>\n",
       "      <td>0</td>\n",
       "      <td>0</td>\n",
       "      <td>Apto</td>\n",
       "      <td>Alto</td>\n",
       "      <td>Pontual</td>\n",
       "      <td>N</td>\n",
       "    </tr>\n",
       "    <tr>\n",
       "      <th>1</th>\n",
       "      <td>26</td>\n",
       "      <td>2</td>\n",
       "      <td>0</td>\n",
       "      <td>1</td>\n",
       "      <td>0</td>\n",
       "      <td>1</td>\n",
       "      <td>Apto</td>\n",
       "      <td>Normal</td>\n",
       "      <td>Pontual</td>\n",
       "      <td>S</td>\n",
       "    </tr>\n",
       "    <tr>\n",
       "      <th>2</th>\n",
       "      <td>26</td>\n",
       "      <td>2</td>\n",
       "      <td>1</td>\n",
       "      <td>1</td>\n",
       "      <td>0</td>\n",
       "      <td>0</td>\n",
       "      <td>Apto</td>\n",
       "      <td>Normal</td>\n",
       "      <td>Prematuro</td>\n",
       "      <td>N</td>\n",
       "    </tr>\n",
       "    <tr>\n",
       "      <th>3</th>\n",
       "      <td>28</td>\n",
       "      <td>1</td>\n",
       "      <td>0</td>\n",
       "      <td>2</td>\n",
       "      <td>0</td>\n",
       "      <td>0</td>\n",
       "      <td>Apto</td>\n",
       "      <td>Alto</td>\n",
       "      <td>Pontual</td>\n",
       "      <td>N</td>\n",
       "    </tr>\n",
       "    <tr>\n",
       "      <th>4</th>\n",
       "      <td>22</td>\n",
       "      <td>2</td>\n",
       "      <td>0</td>\n",
       "      <td>1</td>\n",
       "      <td>0</td>\n",
       "      <td>1</td>\n",
       "      <td>Apto</td>\n",
       "      <td>Normal</td>\n",
       "      <td>Pontual</td>\n",
       "      <td>S</td>\n",
       "    </tr>\n",
       "  </tbody>\n",
       "</table>\n",
       "</div>"
      ],
      "text/plain": [
       "   idade  nr_parto  tempo_parto  pressao_sangue  prblm_coracao  Cesariana  \\\n",
       "0     22         1            0               2              0          0   \n",
       "1     26         2            0               1              0          1   \n",
       "2     26         2            1               1              0          0   \n",
       "3     28         1            0               2              0          0   \n",
       "4     22         2            0               1              0          1   \n",
       "\n",
       "  Ft_prblm_coracao Ft_pressao_sangue Ft_tempo_parto Clas_Cesariana  \n",
       "0             Apto              Alto        Pontual              N  \n",
       "1             Apto            Normal        Pontual              S  \n",
       "2             Apto            Normal      Prematuro              N  \n",
       "3             Apto              Alto        Pontual              N  \n",
       "4             Apto            Normal        Pontual              S  "
      ]
     },
     "execution_count": 125,
     "metadata": {},
     "output_type": "execute_result"
    }
   ],
   "source": [
    "df_cesaria.head()"
   ]
  },
  {
   "cell_type": "markdown",
   "metadata": {},
   "source": [
    "## Normalização Atributo Idade (Min- Max)"
   ]
  },
  {
   "cell_type": "code",
   "execution_count": 126,
   "metadata": {
    "ExecuteTime": {
     "end_time": "2019-06-28T19:56:28.087037Z",
     "start_time": "2019-06-28T19:56:27.951445Z"
    }
   },
   "outputs": [
    {
     "data": {
      "image/png": "[encoded data removed]",
      "text/plain": [
       "<IPython.core.display.Image object>"
      ]
     },
     "execution_count": 126,
     "metadata": {},
     "output_type": "execute_result"
    }
   ],
   "source": [
    "img('img/min_max.PNG')"
   ]
  },
  {
   "cell_type": "code",
   "execution_count": 127,
   "metadata": {
    "ExecuteTime": {
     "end_time": "2019-06-28T19:56:28.275668Z",
     "start_time": "2019-06-28T19:56:28.088539Z"
    }
   },
   "outputs": [
    {
     "data": {
      "text/html": [
       "<div>\n",
       "<style scoped>\n",
       "    .dataframe tbody tr th:only-of-type {\n",
       "        vertical-align: middle;\n",
       "    }\n",
       "\n",
       "    .dataframe tbody tr th {\n",
       "        vertical-align: top;\n",
       "    }\n",
       "\n",
       "    .dataframe thead th {\n",
       "        text-align: right;\n",
       "    }\n",
       "</style>\n",
       "<table border=\"1\" class=\"dataframe\">\n",
       "  <thead>\n",
       "    <tr style=\"text-align: right;\">\n",
       "      <th></th>\n",
       "      <th>idade</th>\n",
       "      <th>nr_parto</th>\n",
       "      <th>tempo_parto</th>\n",
       "      <th>pressao_sangue</th>\n",
       "      <th>prblm_coracao</th>\n",
       "      <th>Cesariana</th>\n",
       "      <th>Ft_prblm_coracao</th>\n",
       "      <th>Ft_pressao_sangue</th>\n",
       "      <th>Ft_tempo_parto</th>\n",
       "      <th>Clas_Cesariana</th>\n",
       "      <th>Norm_idade</th>\n",
       "    </tr>\n",
       "  </thead>\n",
       "  <tbody>\n",
       "    <tr>\n",
       "      <th>0</th>\n",
       "      <td>22</td>\n",
       "      <td>1</td>\n",
       "      <td>0</td>\n",
       "      <td>2</td>\n",
       "      <td>0</td>\n",
       "      <td>0</td>\n",
       "      <td>Apto</td>\n",
       "      <td>Alto</td>\n",
       "      <td>Pontual</td>\n",
       "      <td>N</td>\n",
       "      <td>0.217391</td>\n",
       "    </tr>\n",
       "    <tr>\n",
       "      <th>1</th>\n",
       "      <td>26</td>\n",
       "      <td>2</td>\n",
       "      <td>0</td>\n",
       "      <td>1</td>\n",
       "      <td>0</td>\n",
       "      <td>1</td>\n",
       "      <td>Apto</td>\n",
       "      <td>Normal</td>\n",
       "      <td>Pontual</td>\n",
       "      <td>S</td>\n",
       "      <td>0.391304</td>\n",
       "    </tr>\n",
       "    <tr>\n",
       "      <th>2</th>\n",
       "      <td>26</td>\n",
       "      <td>2</td>\n",
       "      <td>1</td>\n",
       "      <td>1</td>\n",
       "      <td>0</td>\n",
       "      <td>0</td>\n",
       "      <td>Apto</td>\n",
       "      <td>Normal</td>\n",
       "      <td>Prematuro</td>\n",
       "      <td>N</td>\n",
       "      <td>0.391304</td>\n",
       "    </tr>\n",
       "    <tr>\n",
       "      <th>3</th>\n",
       "      <td>28</td>\n",
       "      <td>1</td>\n",
       "      <td>0</td>\n",
       "      <td>2</td>\n",
       "      <td>0</td>\n",
       "      <td>0</td>\n",
       "      <td>Apto</td>\n",
       "      <td>Alto</td>\n",
       "      <td>Pontual</td>\n",
       "      <td>N</td>\n",
       "      <td>0.478261</td>\n",
       "    </tr>\n",
       "    <tr>\n",
       "      <th>4</th>\n",
       "      <td>22</td>\n",
       "      <td>2</td>\n",
       "      <td>0</td>\n",
       "      <td>1</td>\n",
       "      <td>0</td>\n",
       "      <td>1</td>\n",
       "      <td>Apto</td>\n",
       "      <td>Normal</td>\n",
       "      <td>Pontual</td>\n",
       "      <td>S</td>\n",
       "      <td>0.217391</td>\n",
       "    </tr>\n",
       "  </tbody>\n",
       "</table>\n",
       "</div>"
      ],
      "text/plain": [
       "   idade  nr_parto  tempo_parto  pressao_sangue  prblm_coracao  Cesariana  \\\n",
       "0     22         1            0               2              0          0   \n",
       "1     26         2            0               1              0          1   \n",
       "2     26         2            1               1              0          0   \n",
       "3     28         1            0               2              0          0   \n",
       "4     22         2            0               1              0          1   \n",
       "\n",
       "  Ft_prblm_coracao Ft_pressao_sangue Ft_tempo_parto Clas_Cesariana  Norm_idade  \n",
       "0             Apto              Alto        Pontual              N    0.217391  \n",
       "1             Apto            Normal        Pontual              S    0.391304  \n",
       "2             Apto            Normal      Prematuro              N    0.391304  \n",
       "3             Apto              Alto        Pontual              N    0.478261  \n",
       "4             Apto            Normal        Pontual              S    0.217391  "
      ]
     },
     "execution_count": 127,
     "metadata": {},
     "output_type": "execute_result"
    }
   ],
   "source": [
    "scaler = preprocessing.MinMaxScaler(feature_range=(0,1))\n",
    "\n",
    "# fit and transform in one step\n",
    "df_cesaria['Norm_idade'] = scaler.fit_transform(df_cesaria[['idade']])\n",
    "\n",
    "\n",
    "df_cesaria.head()\n"
   ]
  },
  {
   "cell_type": "code",
   "execution_count": 128,
   "metadata": {
    "ExecuteTime": {
     "end_time": "2019-06-28T19:56:28.438779Z",
     "start_time": "2019-06-28T19:56:28.278670Z"
    }
   },
   "outputs": [
    {
     "name": "stdout",
     "output_type": "stream",
     "text": [
      "0.0\n",
      "1.0\n"
     ]
    }
   ],
   "source": [
    "print(df_cesaria.Norm_idade.min())\n",
    "print(df_cesaria.Norm_idade.max())\n"
   ]
  },
  {
   "cell_type": "markdown",
   "metadata": {
    "ExecuteTime": {
     "end_time": "2019-06-28T16:40:59.714904Z",
     "start_time": "2019-06-28T16:40:59.585814Z"
    }
   },
   "source": [
    "## Analise Exploratoria"
   ]
  },
  {
   "cell_type": "code",
   "execution_count": 129,
   "metadata": {
    "ExecuteTime": {
     "end_time": "2019-06-28T19:56:28.710967Z",
     "start_time": "2019-06-28T19:56:28.441281Z"
    }
   },
   "outputs": [
    {
     "data": {
      "text/plain": [
       "Text(0.5, 1.0, 'Cesariana(S/N) por Idade')"
      ]
     },
     "execution_count": 129,
     "metadata": {},
     "output_type": "execute_result"
    },
    {
     "data": {
      "image/png": "[encoded data removed]",
      "text/plain": [
       "<Figure size 432x432 with 1 Axes>"
      ]
     },
     "metadata": {
      "needs_background": "light"
     },
     "output_type": "display_data"
    }
   ],
   "source": [
    "g = sns.factorplot(x=\"Clas_Cesariana\",y=\"idade\", hue ='Clas_Cesariana',data=df_cesaria,kind=\"box\", size = 6 , \n",
    "palette = \"muted\")\n",
    "g.despine(left=True)\n",
    "g = g.set_ylabels(\"Idade\")\n",
    "g = g.set_xlabels(\"Cesariana\")\n",
    "plt.title ('Cesariana(S/N) por Idade')"
   ]
  },
  {
   "cell_type": "code",
   "execution_count": 130,
   "metadata": {
    "ExecuteTime": {
     "end_time": "2019-06-28T19:56:29.021680Z",
     "start_time": "2019-06-28T19:56:28.712468Z"
    }
   },
   "outputs": [
    {
     "data": {
      "text/plain": [
       "Text(0.5, 1.0, 'Cesariana(S/N) x prblm_coracao por Idade')"
      ]
     },
     "execution_count": 130,
     "metadata": {},
     "output_type": "execute_result"
    },
    {
     "data": {
      "image/png": "[encoded data removed]",
      "text/plain": [
       "<Figure size 516.125x432 with 1 Axes>"
      ]
     },
     "metadata": {
      "needs_background": "light"
     },
     "output_type": "display_data"
    }
   ],
   "source": [
    "g = sns.factorplot(x=\"Ft_prblm_coracao\",y=\"idade\", hue ='Clas_Cesariana',data=df_cesaria,kind=\"bar\", size = 6 , \n",
    "palette = \"muted\")\n",
    "g.despine(left=True)\n",
    "g = g.set_ylabels(\"Idade\")\n",
    "g = g.set_xlabels(\"prblm_coracao\")\n",
    "plt.title ('Cesariana(S/N) x prblm_coracao por Idade')"
   ]
  },
  {
   "cell_type": "code",
   "execution_count": 131,
   "metadata": {
    "ExecuteTime": {
     "end_time": "2019-06-28T19:56:29.387933Z",
     "start_time": "2019-06-28T19:56:29.023682Z"
    }
   },
   "outputs": [
    {
     "data": {
      "text/plain": [
       "Text(0.5, 1.0, 'Cesariana(S/N) x prblm_coracao por Idade')"
      ]
     },
     "execution_count": 131,
     "metadata": {},
     "output_type": "execute_result"
    },
    {
     "data": {
      "image/png": "[encoded data removed]",
      "text/plain": [
       "<Figure size 516.125x432 with 1 Axes>"
      ]
     },
     "metadata": {
      "needs_background": "light"
     },
     "output_type": "display_data"
    }
   ],
   "source": [
    "g = sns.factorplot(x=\"Ft_tempo_parto\",y=\"idade\", hue ='Clas_Cesariana',data=df_cesaria,kind=\"bar\", size = 6 , \n",
    "palette = \"muted\")\n",
    "g.despine(left=True)\n",
    "g = g.set_ylabels(\"Idade\")\n",
    "g = g.set_xlabels(\"Ft_tempo_parto\")\n",
    "plt.title ('Cesariana(S/N) x prblm_coracao por Idade')"
   ]
  },
  {
   "cell_type": "code",
   "execution_count": 132,
   "metadata": {
    "ExecuteTime": {
     "end_time": "2019-06-28T19:56:29.741676Z",
     "start_time": "2019-06-28T19:56:29.390435Z"
    }
   },
   "outputs": [
    {
     "data": {
      "text/plain": [
       "Text(0.5, 1.0, 'Cesariana(S/N) x prblm_coracao por Idade')"
      ]
     },
     "execution_count": 132,
     "metadata": {},
     "output_type": "execute_result"
    },
    {
     "data": {
      "image/png": "[encoded data removed]",
      "text/plain": [
       "<Figure size 516.125x432 with 1 Axes>"
      ]
     },
     "metadata": {
      "needs_background": "light"
     },
     "output_type": "display_data"
    }
   ],
   "source": [
    "g = sns.factorplot(x=\"Ft_pressao_sangue\",y=\"idade\", hue ='Clas_Cesariana',data=df_cesaria,kind=\"bar\", size = 6 , \n",
    "palette = \"muted\")\n",
    "g.despine(left=True)\n",
    "g = g.set_ylabels(\"Idade\")\n",
    "g = g.set_xlabels(\"Ft_tempo_parto\")\n",
    "plt.title ('Cesariana(S/N) x prblm_coracao por Idade')"
   ]
  },
  {
   "cell_type": "code",
   "execution_count": 133,
   "metadata": {
    "ExecuteTime": {
     "end_time": "2019-06-28T19:56:29.902287Z",
     "start_time": "2019-06-28T19:56:29.743177Z"
    }
   },
   "outputs": [
    {
     "name": "stdout",
     "output_type": "stream",
     "text": [
      "Parto Pontual alta probabilidade de Cesarina.\n"
     ]
    },
    {
     "data": {
      "image/png": "[encoded data removed]",
      "text/plain": [
       "<Figure size 432x288 with 1 Axes>"
      ]
     },
     "metadata": {
      "needs_background": "light"
     },
     "output_type": "display_data"
    }
   ],
   "source": [
    "p = sns.countplot(data=df_cesaria,\n",
    "                  x = 'Ft_tempo_parto',\n",
    "                  hue = 'Clas_Cesariana')\n",
    "print('Parto Pontual alta probabilidade de Cesarina.')"
   ]
  },
  {
   "cell_type": "code",
   "execution_count": 134,
   "metadata": {
    "ExecuteTime": {
     "end_time": "2019-06-28T19:56:30.063898Z",
     "start_time": "2019-06-28T19:56:29.903788Z"
    }
   },
   "outputs": [
    {
     "name": "stdout",
     "output_type": "stream",
     "text": [
      "Pressão do Sangue Alte e baixo Indica alta probabilidade de Cesarina, como esperado\n"
     ]
    },
    {
     "data": {
      "image/png": "[encoded data removed]",
      "text/plain": [
       "<Figure size 432x288 with 1 Axes>"
      ]
     },
     "metadata": {
      "needs_background": "light"
     },
     "output_type": "display_data"
    }
   ],
   "source": [
    "p = sns.countplot(data=df_cesaria,\n",
    "                  x = 'Ft_pressao_sangue',\n",
    "                  hue = 'Clas_Cesariana')\n",
    "print('Pressão do Sangue Alte e baixo Indica alta probabilidade de Cesarina, como esperado')"
   ]
  },
  {
   "cell_type": "code",
   "execution_count": 135,
   "metadata": {
    "ExecuteTime": {
     "end_time": "2019-06-28T19:56:30.214502Z",
     "start_time": "2019-06-28T19:56:30.066900Z"
    }
   },
   "outputs": [
    {
     "name": "stdout",
     "output_type": "stream",
     "text": [
      "Inapto Alta probabilidade de Cesariana\n"
     ]
    },
    {
     "data": {
      "image/png": "[encoded data removed]",
      "text/plain": [
       "<Figure size 432x288 with 1 Axes>"
      ]
     },
     "metadata": {
      "needs_background": "light"
     },
     "output_type": "display_data"
    }
   ],
   "source": [
    "p = sns.countplot(data=df_cesaria,\n",
    "                  x = 'Ft_prblm_coracao',\n",
    "                  hue = 'Clas_Cesariana')\n",
    "print('Inapto Alta probabilidade de Cesariana')"
   ]
  },
  {
   "cell_type": "code",
   "execution_count": 136,
   "metadata": {
    "ExecuteTime": {
     "end_time": "2019-06-28T19:56:30.382617Z",
     "start_time": "2019-06-28T19:56:30.217003Z"
    }
   },
   "outputs": [
    {
     "name": "stdout",
     "output_type": "stream",
     "text": [
      "Mulheres com 3 e 4 partos possuem mais chance de realizar cesariana\n"
     ]
    },
    {
     "data": {
      "image/png": "[encoded data removed]",
      "text/plain": [
       "<Figure size 432x288 with 1 Axes>"
      ]
     },
     "metadata": {
      "needs_background": "light"
     },
     "output_type": "display_data"
    }
   ],
   "source": [
    "p = sns.countplot(data=df_cesaria,\n",
    "                  x = 'nr_parto',\n",
    "                  hue = 'Clas_Cesariana')\n",
    "print('Mulheres com 3 e 4 partos possuem mais chance de realizar cesariana')"
   ]
  },
  {
   "cell_type": "code",
   "execution_count": 137,
   "metadata": {
    "ExecuteTime": {
     "end_time": "2019-06-28T19:56:30.402631Z",
     "start_time": "2019-06-28T19:56:30.386119Z"
    }
   },
   "outputs": [
    {
     "data": {
      "text/plain": [
       "Cesariana  nr_parto\n",
       "0          1           19\n",
       "           2           12\n",
       "           3            3\n",
       "1          1           22\n",
       "           2           15\n",
       "           3            7\n",
       "           4            2\n",
       "Name: nr_parto, dtype: int64"
      ]
     },
     "execution_count": 137,
     "metadata": {},
     "output_type": "execute_result"
    }
   ],
   "source": [
    "df_cesaria.groupby(['Cesariana','nr_parto']).nr_parto.count()"
   ]
  },
  {
   "cell_type": "code",
   "execution_count": 138,
   "metadata": {
    "ExecuteTime": {
     "end_time": "2019-06-28T19:56:30.525215Z",
     "start_time": "2019-06-28T19:56:30.404633Z"
    }
   },
   "outputs": [],
   "source": [
    "#AGRUPANDO 1 E 2 COMO P E G, respectivamento, pois 3 e 4 geraliza bem Cesarian = 's'\n",
    "df_cesaria.loc[df_cesaria.nr_parto    == 1, 'Ft_nr_parto']  = 'P'\n",
    "\n",
    "df_cesaria.loc[df_cesaria.nr_parto   ==  2, 'Ft_nr_parto']  = 'P'\n",
    "\n",
    "df_cesaria.loc[df_cesaria.nr_parto    == 3, 'Ft_nr_parto']  = 'G'\n",
    "\n",
    "df_cesaria.loc[df_cesaria.nr_parto   ==  4, 'Ft_nr_parto']  = 'G'"
   ]
  },
  {
   "cell_type": "code",
   "execution_count": 139,
   "metadata": {
    "ExecuteTime": {
     "end_time": "2019-06-28T19:56:31.042071Z",
     "start_time": "2019-06-28T19:56:30.526716Z"
    }
   },
   "outputs": [
    {
     "data": {
      "text/html": [
       "<div>\n",
       "<style scoped>\n",
       "    .dataframe tbody tr th:only-of-type {\n",
       "        vertical-align: middle;\n",
       "    }\n",
       "\n",
       "    .dataframe tbody tr th {\n",
       "        vertical-align: top;\n",
       "    }\n",
       "\n",
       "    .dataframe thead th {\n",
       "        text-align: right;\n",
       "    }\n",
       "</style>\n",
       "<table border=\"1\" class=\"dataframe\">\n",
       "  <thead>\n",
       "    <tr style=\"text-align: right;\">\n",
       "      <th></th>\n",
       "      <th>idade</th>\n",
       "      <th>nr_parto</th>\n",
       "      <th>tempo_parto</th>\n",
       "      <th>pressao_sangue</th>\n",
       "      <th>prblm_coracao</th>\n",
       "      <th>Cesariana</th>\n",
       "      <th>Ft_prblm_coracao</th>\n",
       "      <th>Ft_pressao_sangue</th>\n",
       "      <th>Ft_tempo_parto</th>\n",
       "      <th>Clas_Cesariana</th>\n",
       "      <th>Norm_idade</th>\n",
       "      <th>Ft_nr_parto</th>\n",
       "    </tr>\n",
       "  </thead>\n",
       "  <tbody>\n",
       "    <tr>\n",
       "      <th>0</th>\n",
       "      <td>22</td>\n",
       "      <td>1</td>\n",
       "      <td>0</td>\n",
       "      <td>2</td>\n",
       "      <td>0</td>\n",
       "      <td>0</td>\n",
       "      <td>Apto</td>\n",
       "      <td>Alto</td>\n",
       "      <td>Pontual</td>\n",
       "      <td>N</td>\n",
       "      <td>0.217391</td>\n",
       "      <td>P</td>\n",
       "    </tr>\n",
       "    <tr>\n",
       "      <th>1</th>\n",
       "      <td>26</td>\n",
       "      <td>2</td>\n",
       "      <td>0</td>\n",
       "      <td>1</td>\n",
       "      <td>0</td>\n",
       "      <td>1</td>\n",
       "      <td>Apto</td>\n",
       "      <td>Normal</td>\n",
       "      <td>Pontual</td>\n",
       "      <td>S</td>\n",
       "      <td>0.391304</td>\n",
       "      <td>P</td>\n",
       "    </tr>\n",
       "    <tr>\n",
       "      <th>2</th>\n",
       "      <td>26</td>\n",
       "      <td>2</td>\n",
       "      <td>1</td>\n",
       "      <td>1</td>\n",
       "      <td>0</td>\n",
       "      <td>0</td>\n",
       "      <td>Apto</td>\n",
       "      <td>Normal</td>\n",
       "      <td>Prematuro</td>\n",
       "      <td>N</td>\n",
       "      <td>0.391304</td>\n",
       "      <td>P</td>\n",
       "    </tr>\n",
       "    <tr>\n",
       "      <th>3</th>\n",
       "      <td>28</td>\n",
       "      <td>1</td>\n",
       "      <td>0</td>\n",
       "      <td>2</td>\n",
       "      <td>0</td>\n",
       "      <td>0</td>\n",
       "      <td>Apto</td>\n",
       "      <td>Alto</td>\n",
       "      <td>Pontual</td>\n",
       "      <td>N</td>\n",
       "      <td>0.478261</td>\n",
       "      <td>P</td>\n",
       "    </tr>\n",
       "    <tr>\n",
       "      <th>4</th>\n",
       "      <td>22</td>\n",
       "      <td>2</td>\n",
       "      <td>0</td>\n",
       "      <td>1</td>\n",
       "      <td>0</td>\n",
       "      <td>1</td>\n",
       "      <td>Apto</td>\n",
       "      <td>Normal</td>\n",
       "      <td>Pontual</td>\n",
       "      <td>S</td>\n",
       "      <td>0.217391</td>\n",
       "      <td>P</td>\n",
       "    </tr>\n",
       "  </tbody>\n",
       "</table>\n",
       "</div>"
      ],
      "text/plain": [
       "   idade  nr_parto  tempo_parto  pressao_sangue  prblm_coracao  Cesariana  \\\n",
       "0     22         1            0               2              0          0   \n",
       "1     26         2            0               1              0          1   \n",
       "2     26         2            1               1              0          0   \n",
       "3     28         1            0               2              0          0   \n",
       "4     22         2            0               1              0          1   \n",
       "\n",
       "  Ft_prblm_coracao Ft_pressao_sangue Ft_tempo_parto Clas_Cesariana  \\\n",
       "0             Apto              Alto        Pontual              N   \n",
       "1             Apto            Normal        Pontual              S   \n",
       "2             Apto            Normal      Prematuro              N   \n",
       "3             Apto              Alto        Pontual              N   \n",
       "4             Apto            Normal        Pontual              S   \n",
       "\n",
       "   Norm_idade Ft_nr_parto  \n",
       "0    0.217391           P  \n",
       "1    0.391304           P  \n",
       "2    0.391304           P  \n",
       "3    0.478261           P  \n",
       "4    0.217391           P  "
      ]
     },
     "execution_count": 139,
     "metadata": {},
     "output_type": "execute_result"
    }
   ],
   "source": [
    "df_cesaria.head()"
   ]
  },
  {
   "cell_type": "code",
   "execution_count": 140,
   "metadata": {
    "ExecuteTime": {
     "end_time": "2019-06-28T19:56:31.506391Z",
     "start_time": "2019-06-28T19:56:31.043572Z"
    }
   },
   "outputs": [
    {
     "name": "stdout",
     "output_type": "stream",
     "text": [
      "Um grande grupo de Mulher até os 27 anos possui entre 1 e 2 partos como o esperado\n"
     ]
    },
    {
     "data": {
      "image/png": "[encoded data removed]",
      "text/plain": [
       "<Figure size 432x288 with 1 Axes>"
      ]
     },
     "metadata": {
      "needs_background": "light"
     },
     "output_type": "display_data"
    }
   ],
   "source": [
    "p = sns.countplot(data=df_cesaria,\n",
    "                    x = 'idade',\n",
    "                  hue = 'Ft_nr_parto')\n",
    "print('Um grande grupo de Mulher até os 27 anos possui entre 1 e 2 partos como o esperado')"
   ]
  },
  {
   "cell_type": "markdown",
   "metadata": {},
   "source": [
    "## Dividindo o dataset em treinamento e teste ( 70% treinamento e 30% teste)"
   ]
  },
  {
   "cell_type": "code",
   "execution_count": 173,
   "metadata": {
    "ExecuteTime": {
     "end_time": "2019-06-28T20:08:17.193148Z",
     "start_time": "2019-06-28T20:08:17.184643Z"
    }
   },
   "outputs": [],
   "source": [
    "from sklearn.model_selection import train_test_split\n",
    "X = df_cesaria[[\"Cesariana\"]]\n",
    "y = df_cesaria.drop(labels = [\"Clas_Cesariana\",\n",
    "                              \"Cesariana\",\n",
    "                              \"Norm_idade\",\n",
    "                              \"Ft_nr_parto\",\n",
    "                              \"Ft_tempo_parto\",\n",
    "                              'Ft_pressao_sangue',\n",
    "                              'Ft_prblm_coracao',\n",
    "                              ],axis = 1)\n",
    "\n",
    "\n",
    "X_train, X_test, y_train, y_test = train_test_split(X, y, test_size = 0.3, random_state = 0)"
   ]
  },
  {
   "cell_type": "code",
   "execution_count": 174,
   "metadata": {
    "ExecuteTime": {
     "end_time": "2019-06-28T20:08:17.831588Z",
     "start_time": "2019-06-28T20:08:17.823082Z"
    }
   },
   "outputs": [
    {
     "data": {
      "text/html": [
       "<div>\n",
       "<style scoped>\n",
       "    .dataframe tbody tr th:only-of-type {\n",
       "        vertical-align: middle;\n",
       "    }\n",
       "\n",
       "    .dataframe tbody tr th {\n",
       "        vertical-align: top;\n",
       "    }\n",
       "\n",
       "    .dataframe thead th {\n",
       "        text-align: right;\n",
       "    }\n",
       "</style>\n",
       "<table border=\"1\" class=\"dataframe\">\n",
       "  <thead>\n",
       "    <tr style=\"text-align: right;\">\n",
       "      <th></th>\n",
       "      <th>idade</th>\n",
       "      <th>nr_parto</th>\n",
       "      <th>tempo_parto</th>\n",
       "      <th>pressao_sangue</th>\n",
       "      <th>prblm_coracao</th>\n",
       "    </tr>\n",
       "  </thead>\n",
       "  <tbody>\n",
       "    <tr>\n",
       "      <th>55</th>\n",
       "      <td>25</td>\n",
       "      <td>2</td>\n",
       "      <td>0</td>\n",
       "      <td>1</td>\n",
       "      <td>0</td>\n",
       "    </tr>\n",
       "    <tr>\n",
       "      <th>17</th>\n",
       "      <td>20</td>\n",
       "      <td>1</td>\n",
       "      <td>2</td>\n",
       "      <td>2</td>\n",
       "      <td>0</td>\n",
       "    </tr>\n",
       "    <tr>\n",
       "      <th>60</th>\n",
       "      <td>22</td>\n",
       "      <td>1</td>\n",
       "      <td>2</td>\n",
       "      <td>2</td>\n",
       "      <td>0</td>\n",
       "    </tr>\n",
       "    <tr>\n",
       "      <th>62</th>\n",
       "      <td>32</td>\n",
       "      <td>2</td>\n",
       "      <td>0</td>\n",
       "      <td>0</td>\n",
       "      <td>0</td>\n",
       "    </tr>\n",
       "    <tr>\n",
       "      <th>6</th>\n",
       "      <td>27</td>\n",
       "      <td>2</td>\n",
       "      <td>0</td>\n",
       "      <td>1</td>\n",
       "      <td>0</td>\n",
       "    </tr>\n",
       "  </tbody>\n",
       "</table>\n",
       "</div>"
      ],
      "text/plain": [
       "    idade  nr_parto  tempo_parto  pressao_sangue  prblm_coracao\n",
       "55     25         2            0               1              0\n",
       "17     20         1            2               2              0\n",
       "60     22         1            2               2              0\n",
       "62     32         2            0               0              0\n",
       "6      27         2            0               1              0"
      ]
     },
     "execution_count": 174,
     "metadata": {},
     "output_type": "execute_result"
    }
   ],
   "source": [
    "y_train"
   ]
  },
  {
   "cell_type": "code",
   "execution_count": 175,
   "metadata": {
    "ExecuteTime": {
     "end_time": "2019-06-28T20:08:19.492230Z",
     "start_time": "2019-06-28T20:08:19.343628Z"
    }
   },
   "outputs": [
    {
     "ename": "ValueError",
     "evalue": "multiclass-multioutput is not supported",
     "output_type": "error",
     "traceback": [
      "\u001b[1;31m---------------------------------------------------------------------------\u001b[0m",
      "\u001b[1;31mValueError\u001b[0m                                Traceback (most recent call last)",
      "\u001b[1;32m<ipython-input-175-501f73290a27>\u001b[0m in \u001b[0;36m<module>\u001b[1;34m\u001b[0m\n\u001b[0;32m     12\u001b[0m \u001b[1;33m\u001b[0m\u001b[0m\n\u001b[0;32m     13\u001b[0m     \u001b[1;31m#Compute accuracy on the training set\u001b[0m\u001b[1;33m\u001b[0m\u001b[1;33m\u001b[0m\u001b[0m\n\u001b[1;32m---> 14\u001b[1;33m     \u001b[0mtrain_accuracy\u001b[0m\u001b[1;33m[\u001b[0m\u001b[0mi\u001b[0m\u001b[1;33m]\u001b[0m \u001b[1;33m=\u001b[0m \u001b[0mknn\u001b[0m\u001b[1;33m.\u001b[0m\u001b[0mscore\u001b[0m\u001b[1;33m(\u001b[0m\u001b[0mX_train\u001b[0m\u001b[1;33m,\u001b[0m\u001b[0my_train\u001b[0m\u001b[1;33m)\u001b[0m\u001b[1;33m\u001b[0m\u001b[0m\n\u001b[0m\u001b[0;32m     15\u001b[0m \u001b[1;33m\u001b[0m\u001b[0m\n\u001b[0;32m     16\u001b[0m     \u001b[1;31m#Compute accuracy on the testing set\u001b[0m\u001b[1;33m\u001b[0m\u001b[1;33m\u001b[0m\u001b[0m\n",
      "\u001b[1;32mc:\\users\\robson.pantoja\\appdata\\local\\programs\\python\\python36-32\\lib\\site-packages\\sklearn\\base.py\u001b[0m in \u001b[0;36mscore\u001b[1;34m(self, X, y, sample_weight)\u001b[0m\n\u001b[0;32m    288\u001b[0m         \"\"\"\n\u001b[0;32m    289\u001b[0m         \u001b[1;32mfrom\u001b[0m \u001b[1;33m.\u001b[0m\u001b[0mmetrics\u001b[0m \u001b[1;32mimport\u001b[0m \u001b[0maccuracy_score\u001b[0m\u001b[1;33m\u001b[0m\u001b[0m\n\u001b[1;32m--> 290\u001b[1;33m         \u001b[1;32mreturn\u001b[0m \u001b[0maccuracy_score\u001b[0m\u001b[1;33m(\u001b[0m\u001b[0my\u001b[0m\u001b[1;33m,\u001b[0m \u001b[0mself\u001b[0m\u001b[1;33m.\u001b[0m\u001b[0mpredict\u001b[0m\u001b[1;33m(\u001b[0m\u001b[0mX\u001b[0m\u001b[1;33m)\u001b[0m\u001b[1;33m,\u001b[0m \u001b[0msample_weight\u001b[0m\u001b[1;33m=\u001b[0m\u001b[0msample_weight\u001b[0m\u001b[1;33m)\u001b[0m\u001b[1;33m\u001b[0m\u001b[0m\n\u001b[0m\u001b[0;32m    291\u001b[0m \u001b[1;33m\u001b[0m\u001b[0m\n\u001b[0;32m    292\u001b[0m \u001b[1;33m\u001b[0m\u001b[0m\n",
      "\u001b[1;32mc:\\users\\robson.pantoja\\appdata\\local\\programs\\python\\python36-32\\lib\\site-packages\\sklearn\\metrics\\classification.py\u001b[0m in \u001b[0;36maccuracy_score\u001b[1;34m(y_true, y_pred, normalize, sample_weight)\u001b[0m\n\u001b[0;32m    174\u001b[0m \u001b[1;33m\u001b[0m\u001b[0m\n\u001b[0;32m    175\u001b[0m     \u001b[1;31m# Compute accuracy for each possible representation\u001b[0m\u001b[1;33m\u001b[0m\u001b[1;33m\u001b[0m\u001b[0m\n\u001b[1;32m--> 176\u001b[1;33m     \u001b[0my_type\u001b[0m\u001b[1;33m,\u001b[0m \u001b[0my_true\u001b[0m\u001b[1;33m,\u001b[0m \u001b[0my_pred\u001b[0m \u001b[1;33m=\u001b[0m \u001b[0m_check_targets\u001b[0m\u001b[1;33m(\u001b[0m\u001b[0my_true\u001b[0m\u001b[1;33m,\u001b[0m \u001b[0my_pred\u001b[0m\u001b[1;33m)\u001b[0m\u001b[1;33m\u001b[0m\u001b[0m\n\u001b[0m\u001b[0;32m    177\u001b[0m     \u001b[0mcheck_consistent_length\u001b[0m\u001b[1;33m(\u001b[0m\u001b[0my_true\u001b[0m\u001b[1;33m,\u001b[0m \u001b[0my_pred\u001b[0m\u001b[1;33m,\u001b[0m \u001b[0msample_weight\u001b[0m\u001b[1;33m)\u001b[0m\u001b[1;33m\u001b[0m\u001b[0m\n\u001b[0;32m    178\u001b[0m     \u001b[1;32mif\u001b[0m \u001b[0my_type\u001b[0m\u001b[1;33m.\u001b[0m\u001b[0mstartswith\u001b[0m\u001b[1;33m(\u001b[0m\u001b[1;34m'multilabel'\u001b[0m\u001b[1;33m)\u001b[0m\u001b[1;33m:\u001b[0m\u001b[1;33m\u001b[0m\u001b[0m\n",
      "\u001b[1;32mc:\\users\\robson.pantoja\\appdata\\local\\programs\\python\\python36-32\\lib\\site-packages\\sklearn\\metrics\\classification.py\u001b[0m in \u001b[0;36m_check_targets\u001b[1;34m(y_true, y_pred)\u001b[0m\n\u001b[0;32m     86\u001b[0m     \u001b[1;31m# No metrics support \"multiclass-multioutput\" format\u001b[0m\u001b[1;33m\u001b[0m\u001b[1;33m\u001b[0m\u001b[0m\n\u001b[0;32m     87\u001b[0m     \u001b[1;32mif\u001b[0m \u001b[1;33m(\u001b[0m\u001b[0my_type\u001b[0m \u001b[1;32mnot\u001b[0m \u001b[1;32min\u001b[0m \u001b[1;33m[\u001b[0m\u001b[1;34m\"binary\"\u001b[0m\u001b[1;33m,\u001b[0m \u001b[1;34m\"multiclass\"\u001b[0m\u001b[1;33m,\u001b[0m \u001b[1;34m\"multilabel-indicator\"\u001b[0m\u001b[1;33m]\u001b[0m\u001b[1;33m)\u001b[0m\u001b[1;33m:\u001b[0m\u001b[1;33m\u001b[0m\u001b[0m\n\u001b[1;32m---> 88\u001b[1;33m         \u001b[1;32mraise\u001b[0m \u001b[0mValueError\u001b[0m\u001b[1;33m(\u001b[0m\u001b[1;34m\"{0} is not supported\"\u001b[0m\u001b[1;33m.\u001b[0m\u001b[0mformat\u001b[0m\u001b[1;33m(\u001b[0m\u001b[0my_type\u001b[0m\u001b[1;33m)\u001b[0m\u001b[1;33m)\u001b[0m\u001b[1;33m\u001b[0m\u001b[0m\n\u001b[0m\u001b[0;32m     89\u001b[0m \u001b[1;33m\u001b[0m\u001b[0m\n\u001b[0;32m     90\u001b[0m     \u001b[1;32mif\u001b[0m \u001b[0my_type\u001b[0m \u001b[1;32min\u001b[0m \u001b[1;33m[\u001b[0m\u001b[1;34m\"binary\"\u001b[0m\u001b[1;33m,\u001b[0m \u001b[1;34m\"multiclass\"\u001b[0m\u001b[1;33m]\u001b[0m\u001b[1;33m:\u001b[0m\u001b[1;33m\u001b[0m\u001b[0m\n",
      "\u001b[1;31mValueError\u001b[0m: multiclass-multioutput is not supported"
     ]
    }
   ],
   "source": [
    "neighbors = np.arange(1, 9)\n",
    "train_accuracy = np.empty(len(neighbors))\n",
    "test_accuracy = np.empty(len(neighbors))\n",
    "\n",
    "\n",
    "# Loop over different values of k\n",
    "for i, k in enumerate(neighbors):\n",
    "    # Setup a k-NN Classifier with k neighbors: knn\n",
    "    knn = KNeighborsClassifier(n_neighbors=k)\n",
    "    # Fit the classifier to the training data\n",
    "    knn.fit(X_train,y_train)\n",
    "    \n",
    "    #Compute accuracy on the training set\n",
    "    train_accuracy[i] = knn.score(X_train,y_train)\n",
    "\n",
    "    #Compute accuracy on the testing set\n",
    "    test_accuracy[i] = knn.score(X_test, y_test)\n",
    "\n",
    "    \n",
    "# Generate plot\n",
    "plt.title('k-NN: Varying Number of Neighbors')\n",
    "plt.plot(neighbors, test_accuracy, label = 'Testing Accuracy')\n",
    "plt.plot(neighbors, train_accuracy, label = 'Training Accuracy')\n",
    "plt.legend()\n",
    "plt.xlabel('Number of Neighbors')\n",
    "plt.ylabel('Accuracy')\n",
    "plt.show()"
   ]
  },
  {
   "cell_type": "code",
   "execution_count": null,
   "metadata": {},
   "outputs": [],
   "source": []
  },
  {
   "cell_type": "code",
   "execution_count": null,
   "metadata": {},
   "outputs": [],
   "source": []
  },
  {
   "cell_type": "code",
   "execution_count": null,
   "metadata": {},
   "outputs": [],
   "source": []
  }
 ],
 "metadata": {
  "kernelspec": {
   "display_name": "Python 3",
   "language": "python",
   "name": "python3"
  },
  "language_info": {
   "codemirror_mode": {
    "name": "ipython",
    "version": 3
   },
   "file_extension": ".py",
   "mimetype": "text/x-python",
   "name": "python",
   "nbconvert_exporter": "python",
   "pygments_lexer": "ipython3",
   "version": "3.6.4"
  },
  "toc": {
   "base_numbering": 1,
   "nav_menu": {},
   "number_sections": true,
   "sideBar": true,
   "skip_h1_title": true,
   "title_cell": "Table of Contents",
   "title_sidebar": "Contents",
   "toc_cell": true,
   "toc_position": {},
   "toc_section_display": true,
   "toc_window_display": true
  },
  "varInspector": {
   "cols": {
    "lenName": 16,
    "lenType": 16,
    "lenVar": 40
   },
   "kernels_config": {
    "python": {
     "delete_cmd_postfix": "",
     "delete_cmd_prefix": "del ",
     "library": "var_list.py",
     "varRefreshCmd": "print(var_dic_list())"
    },
    "r": {
     "delete_cmd_postfix": ") ",
     "delete_cmd_prefix": "rm(",
     "library": "var_list.r",
     "varRefreshCmd": "cat(var_dic_list()) "
    }
   },
   "types_to_exclude": [
    "module",
    "function",
    "builtin_function_or_method",
    "instance",
    "_Feature"
   ],
   "window_display": false
  }
 },
 "nbformat": 4,
 "nbformat_minor": 2
}
